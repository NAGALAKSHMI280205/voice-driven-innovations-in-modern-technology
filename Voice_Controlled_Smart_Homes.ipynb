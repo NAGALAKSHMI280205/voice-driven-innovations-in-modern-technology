{
  "nbformat": 4,
  "nbformat_minor": 0,
  "metadata": {
    "colab": {
      "provenance": []
    },
    "kernelspec": {
      "name": "python3",
      "display_name": "Python 3"
    },
    "language_info": {
      "name": "python"
    }
  },
  "cells": [
    {
      "cell_type": "code",
      "source": [],
      "metadata": {
        "id": "C1AOiThu1B35"
      },
      "execution_count": null,
      "outputs": []
    },
    {
      "source": [
        "!pip install SpeechRecognition\n",
        "!pip install pydub # Useful for handling audio files"
      ],
      "cell_type": "code",
      "metadata": {
        "id": "tOo4VGFOHpQq",
        "colab": {
          "base_uri": "https://localhost:8080/"
        },
        "outputId": "a2f6f2b0-90c8-43bd-8742-6cfc0018de3f"
      },
      "execution_count": null,
      "outputs": [
        {
          "output_type": "stream",
          "name": "stdout",
          "text": [
            "Collecting SpeechRecognition\n",
            "  Downloading speechrecognition-3.14.3-py3-none-any.whl.metadata (30 kB)\n",
            "Requirement already satisfied: typing-extensions in /usr/local/lib/python3.11/dist-packages (from SpeechRecognition) (4.13.2)\n",
            "Downloading speechrecognition-3.14.3-py3-none-any.whl (32.9 MB)\n",
            "\u001b[2K   \u001b[90m━━━━━━━━━━━━━━━━━━━━━━━━━━━━━━━━━━━━━━━━\u001b[0m \u001b[32m32.9/32.9 MB\u001b[0m \u001b[31m59.4 MB/s\u001b[0m eta \u001b[36m0:00:00\u001b[0m\n",
            "\u001b[?25hInstalling collected packages: SpeechRecognition\n",
            "Successfully installed SpeechRecognition-3.14.3\n",
            "Collecting pydub\n",
            "  Downloading pydub-0.25.1-py2.py3-none-any.whl.metadata (1.4 kB)\n",
            "Downloading pydub-0.25.1-py2.py3-none-any.whl (32 kB)\n",
            "Installing collected packages: pydub\n",
            "Successfully installed pydub-0.25.1\n"
          ]
        }
      ]
    },
    {
      "source": [
        "import speech_recognition as sr\n",
        "import os\n",
        "from pydub import AudioSegment"
      ],
      "cell_type": "code",
      "metadata": {
        "id": "IHiophRcHpn0"
      },
      "execution_count": null,
      "outputs": []
    },
    {
      "source": [
        "r = sr.Recognizer()"
      ],
      "cell_type": "code",
      "metadata": {
        "id": "JNu8FIS7Hq5u"
      },
      "execution_count": null,
      "outputs": []
    },
    {
      "source": [
        "\n",
        "\n",
        "!pip install SpeechRecognition\n",
        "!pip install pydub\n",
        "\n",
        "import speech_recognition as sr\n",
        "import os\n",
        "from pydub import AudioSegment\n",
        "\n",
        "# Adjust these paths to where you stored your audio files in Google Drive\n",
        "audio_files = [\n",
        "    '/content/Audio1.wav',\n",
        "    '/content/Audio2.wav',\n",
        "    '/content/Audio3.wav',\n",
        "    '/content/Audio4.wav',\n",
        "    '/content/Audio5.wav'\n",
        "    ,'/content/Audio6.wav'\n",
        "    ,'/content/Audio7.wav'\n",
        "    ,'/content/Audio8.wav'\n",
        "    ,'/content/Audio9.wav'\n",
        "    ,'/content/Audio10.wav'\n",
        "]\n",
        "\n",
        "r = sr.Recognizer()\n",
        "\n",
        "for audio_file in audio_files:\n",
        "    print(f\"\\nProcessing audio file: {audio_file}\")\n",
        "    try:\n",
        "       with sr.AudioFile(audio_file) as source:\n",
        "        audio = r.record(source)\n",
        "        text = r.recognize_google(audio)\n",
        "        print(\"Recognized text: \" + text)\n",
        "        if \"turn on \" in text.lower() and \"the living room light\" in text.lower():\n",
        "          print(\"Simulating: Turning on the living room light\")\n",
        "        elif \"turn off \" in text.lower() and \"the kitchen light\" in text.lower():\n",
        "          print(\"Simulating: Turning off the kitchen light\")\n",
        "        elif \"turn on the bedroom fan\" in text.lower():\n",
        "          print(\"Simulating: Turning on the bedroom fan\")\n",
        "        elif \"turn off the ceiling fan\" in text.lower():\n",
        "          print(\"Simulating: Turning off the ceiling fan\")\n",
        "    # You'd need to extract the temperature here (more advanced parsing)\n",
        "        elif \"50 thermostat to 22°\" in text.lower():\n",
        "          print(\"Simulating: Setting 50 thermostat to 22°\")\n",
        "        elif \"increase the volume\" in text.lower():\n",
        "          print(\"Simulating: Increasing volume\")\n",
        "        elif \"decrease the volume\" in text.lower():\n",
        "          print(\"Simulating: Decreasing volume\")\n",
        "        elif \"play music\" in text.lower():\n",
        "          print(\"Simulating: Playing music\")\n",
        "        elif \"stop the music\" in text.lower():\n",
        "          print(\"Simulating: Stopping music\")\n",
        "        elif \"open the blinds\" in text.lower():\n",
        "          print(\"Simulating: Opening blinds\")\n",
        "# Add more conditions for other commands\n",
        "        else:\n",
        "          print(\"Command not recognized\")\n",
        "\n",
        "    except sr.UnknownValueError:\n",
        "      print(\"Speech Recognition could not understand audio\")\n",
        "    except sr.RequestError as e:\n",
        "      print(\"Could not request results from Google Speech Recognition service; {0}\".format(e))\n",
        "    except FileNotFoundError:\n",
        "      print(f\"Error: Audio file not found at {audio_file}\")\n",
        "    except Exception as e:\n",
        "      print(f\"An error occurred: {e}\")"
      ],
      "cell_type": "code",
      "metadata": {
        "id": "C0Xo8afzHtLa",
        "colab": {
          "base_uri": "https://localhost:8080/"
        },
        "outputId": "f76dddbc-1fb6-40ba-8190-222274976eec"
      },
      "execution_count": null,
      "outputs": [
        {
          "output_type": "stream",
          "name": "stdout",
          "text": [
            "Requirement already satisfied: SpeechRecognition in /usr/local/lib/python3.11/dist-packages (3.14.3)\n",
            "Requirement already satisfied: typing-extensions in /usr/local/lib/python3.11/dist-packages (from SpeechRecognition) (4.13.2)\n",
            "Requirement already satisfied: pydub in /usr/local/lib/python3.11/dist-packages (0.25.1)\n",
            "\n",
            "Processing audio file: /content/Audio1.wav\n",
            "Recognized text: turn on the living room light\n",
            "Simulating: Turning on the living room light\n",
            "\n",
            "Processing audio file: /content/Audio2.wav\n",
            "Recognized text: turn off the kitchen light\n",
            "Simulating: Turning off the kitchen light\n",
            "\n",
            "Processing audio file: /content/Audio3.wav\n",
            "Recognized text: turn on the bedroom fan\n",
            "Simulating: Turning on the bedroom fan\n",
            "\n",
            "Processing audio file: /content/Audio4.wav\n",
            "Recognized text: turn off the ceiling fan\n",
            "Simulating: Turning off the ceiling fan\n",
            "\n",
            "Processing audio file: /content/Audio5.wav\n",
            "Recognized text: 50 thermostat to 22°\n",
            "Simulating: Setting 50 thermostat to 22°\n",
            "\n",
            "Processing audio file: /content/Audio6.wav\n",
            "Recognized text: increase the volume\n",
            "Simulating: Increasing volume\n",
            "\n",
            "Processing audio file: /content/Audio7.wav\n",
            "Recognized text: decrease the volume\n",
            "Simulating: Decreasing volume\n",
            "\n",
            "Processing audio file: /content/Audio8.wav\n",
            "Recognized text: play music\n",
            "Simulating: Playing music\n",
            "\n",
            "Processing audio file: /content/Audio9.wav\n",
            "Recognized text: stop the music\n",
            "Simulating: Stopping music\n",
            "\n",
            "Processing audio file: /content/Audio10.wav\n",
            "Recognized text: open the blinds\n",
            "Simulating: Opening blinds\n"
          ]
        }
      ]
    }
  ]
}